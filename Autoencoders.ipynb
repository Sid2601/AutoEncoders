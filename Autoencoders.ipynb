{
  "nbformat": 4,
  "nbformat_minor": 0,
  "metadata": {
    "colab": {
      "name": "Autoencoders.ipynb",
      "provenance": [],
      "include_colab_link": true
    },
    "kernelspec": {
      "name": "python3",
      "display_name": "Python 3"
    },
    "accelerator": "GPU"
  },
  "cells": [
    {
      "cell_type": "markdown",
      "metadata": {
        "id": "view-in-github",
        "colab_type": "text"
      },
      "source": [
        "<a href=\"https://colab.research.google.com/github/Sid2601/AutoEncoders/blob/main/Autoencoders.ipynb\" target=\"_parent\"><img src=\"https://colab.research.google.com/assets/colab-badge.svg\" alt=\"Open In Colab\"/></a>"
      ]
    },
    {
      "cell_type": "code",
      "metadata": {
        "id": "NnbkmAvhznl0"
      },
      "source": [
        "import keras\n",
        "from keras import layers\n",
        "\n",
        "encoding_dim = 10 #size of encoded representation\n",
        "\n",
        "input_img = keras.Input(shape=(784,)) #this is our input img\n",
        "\n",
        "encoded = layers.Dense(encoding_dim, activation='relu')(input_img) #encoded is the encoded representation of the input\n",
        "\n",
        "decoded = layers.Dense(784, activation='sigmoid')(encoded)\n",
        "\n",
        "autoencoder = keras.Model(input_img, decoded) #this model maps input to its reconstruction\n",
        "\n",
        "encoder = keras.Model(input_img, encoded) # this model maps an input to its encoded representation\n",
        "\n",
        "encoded_input = keras.Input(shape=(encoding_dim,)) # this is our encoded (32-dim) input\n",
        "\n",
        "decoder_layer = autoencoder.layers[-1] #retrieve the last layer of the autoencoder model\n",
        "\n",
        "decoder = keras.Model(encoded_input, decoder_layer(encoded_input))"
      ],
      "execution_count": 1,
      "outputs": []
    },
    {
      "cell_type": "code",
      "metadata": {
        "id": "0EePErVU1eXZ"
      },
      "source": [
        "autoencoder.compile(optimizer='adam', loss='binary_crossentropy')"
      ],
      "execution_count": 2,
      "outputs": []
    },
    {
      "cell_type": "code",
      "metadata": {
        "id": "eZR9nYH61oq6",
        "outputId": "6e200b7e-0681-4271-8099-c7368624f2f0",
        "colab": {
          "base_uri": "https://localhost:8080/",
          "height": 50
        }
      },
      "source": [
        "from keras.datasets import mnist\n",
        "import numpy as np\n",
        "\n",
        "(x_train, _), (x_test, _) = mnist.load_data()"
      ],
      "execution_count": 3,
      "outputs": [
        {
          "output_type": "stream",
          "text": [
            "Downloading data from https://storage.googleapis.com/tensorflow/tf-keras-datasets/mnist.npz\n",
            "11493376/11490434 [==============================] - 0s 0us/step\n"
          ],
          "name": "stdout"
        }
      ]
    },
    {
      "cell_type": "code",
      "metadata": {
        "id": "ta5qvL7A18mC"
      },
      "source": [
        "x_train = x_train/255\n",
        "x_test = x_test/255\n",
        "\n",
        "x_train = x_train.reshape((len(x_train), np.prod(x_train.shape[1:])))\n",
        "x_test = x_test.reshape((len(x_test), np.prod(x_test.shape[1:])))"
      ],
      "execution_count": 4,
      "outputs": []
    },
    {
      "cell_type": "code",
      "metadata": {
        "id": "1bDmnriI2Lmm",
        "outputId": "fc21bea5-a613-460b-b981-ffdf0a7cfa0b",
        "colab": {
          "base_uri": "https://localhost:8080/",
          "height": 1000
        }
      },
      "source": [
        "autoencoder.fit(x_train, x_train,\n",
        "                epochs=50,\n",
        "                batch_size=256,\n",
        "                shuffle=True,\n",
        "                validation_data=(x_test, x_test))"
      ],
      "execution_count": 5,
      "outputs": [
        {
          "output_type": "stream",
          "text": [
            "Epoch 1/50\n",
            "235/235 [==============================] - 1s 5ms/step - loss: 0.3253 - val_loss: 0.2383\n",
            "Epoch 2/50\n",
            "235/235 [==============================] - 1s 4ms/step - loss: 0.2191 - val_loss: 0.2021\n",
            "Epoch 3/50\n",
            "235/235 [==============================] - 1s 4ms/step - loss: 0.1923 - val_loss: 0.1819\n",
            "Epoch 4/50\n",
            "235/235 [==============================] - 1s 4ms/step - loss: 0.1779 - val_loss: 0.1727\n",
            "Epoch 5/50\n",
            "235/235 [==============================] - 1s 4ms/step - loss: 0.1715 - val_loss: 0.1684\n",
            "Epoch 6/50\n",
            "235/235 [==============================] - 1s 4ms/step - loss: 0.1681 - val_loss: 0.1655\n",
            "Epoch 7/50\n",
            "235/235 [==============================] - 1s 4ms/step - loss: 0.1657 - val_loss: 0.1634\n",
            "Epoch 8/50\n",
            "235/235 [==============================] - 1s 4ms/step - loss: 0.1639 - val_loss: 0.1617\n",
            "Epoch 9/50\n",
            "235/235 [==============================] - 1s 4ms/step - loss: 0.1623 - val_loss: 0.1603\n",
            "Epoch 10/50\n",
            "235/235 [==============================] - 1s 4ms/step - loss: 0.1610 - val_loss: 0.1591\n",
            "Epoch 11/50\n",
            "235/235 [==============================] - 1s 4ms/step - loss: 0.1600 - val_loss: 0.1581\n",
            "Epoch 12/50\n",
            "235/235 [==============================] - 1s 4ms/step - loss: 0.1591 - val_loss: 0.1573\n",
            "Epoch 13/50\n",
            "235/235 [==============================] - 1s 4ms/step - loss: 0.1584 - val_loss: 0.1565\n",
            "Epoch 14/50\n",
            "235/235 [==============================] - 1s 4ms/step - loss: 0.1577 - val_loss: 0.1561\n",
            "Epoch 15/50\n",
            "235/235 [==============================] - 1s 4ms/step - loss: 0.1572 - val_loss: 0.1555\n",
            "Epoch 16/50\n",
            "235/235 [==============================] - 1s 4ms/step - loss: 0.1568 - val_loss: 0.1551\n",
            "Epoch 17/50\n",
            "235/235 [==============================] - 1s 4ms/step - loss: 0.1565 - val_loss: 0.1548\n",
            "Epoch 18/50\n",
            "235/235 [==============================] - 1s 4ms/step - loss: 0.1562 - val_loss: 0.1546\n",
            "Epoch 19/50\n",
            "235/235 [==============================] - 1s 4ms/step - loss: 0.1559 - val_loss: 0.1543\n",
            "Epoch 20/50\n",
            "235/235 [==============================] - 1s 4ms/step - loss: 0.1557 - val_loss: 0.1541\n",
            "Epoch 21/50\n",
            "235/235 [==============================] - 1s 4ms/step - loss: 0.1555 - val_loss: 0.1539\n",
            "Epoch 22/50\n",
            "235/235 [==============================] - 1s 4ms/step - loss: 0.1553 - val_loss: 0.1537\n",
            "Epoch 23/50\n",
            "235/235 [==============================] - 1s 4ms/step - loss: 0.1551 - val_loss: 0.1536\n",
            "Epoch 24/50\n",
            "235/235 [==============================] - 1s 4ms/step - loss: 0.1550 - val_loss: 0.1534\n",
            "Epoch 25/50\n",
            "235/235 [==============================] - 1s 4ms/step - loss: 0.1549 - val_loss: 0.1533\n",
            "Epoch 26/50\n",
            "235/235 [==============================] - 1s 4ms/step - loss: 0.1547 - val_loss: 0.1532\n",
            "Epoch 27/50\n",
            "235/235 [==============================] - 1s 4ms/step - loss: 0.1546 - val_loss: 0.1531\n",
            "Epoch 28/50\n",
            "235/235 [==============================] - 1s 4ms/step - loss: 0.1545 - val_loss: 0.1530\n",
            "Epoch 29/50\n",
            "235/235 [==============================] - 1s 4ms/step - loss: 0.1544 - val_loss: 0.1529\n",
            "Epoch 30/50\n",
            "235/235 [==============================] - 1s 4ms/step - loss: 0.1543 - val_loss: 0.1528\n",
            "Epoch 31/50\n",
            "235/235 [==============================] - 1s 4ms/step - loss: 0.1542 - val_loss: 0.1527\n",
            "Epoch 32/50\n",
            "235/235 [==============================] - 1s 4ms/step - loss: 0.1541 - val_loss: 0.1527\n",
            "Epoch 33/50\n",
            "235/235 [==============================] - 1s 4ms/step - loss: 0.1541 - val_loss: 0.1526\n",
            "Epoch 34/50\n",
            "235/235 [==============================] - 1s 4ms/step - loss: 0.1540 - val_loss: 0.1525\n",
            "Epoch 35/50\n",
            "235/235 [==============================] - 1s 4ms/step - loss: 0.1539 - val_loss: 0.1525\n",
            "Epoch 36/50\n",
            "235/235 [==============================] - 1s 4ms/step - loss: 0.1539 - val_loss: 0.1524\n",
            "Epoch 37/50\n",
            "235/235 [==============================] - 1s 4ms/step - loss: 0.1538 - val_loss: 0.1525\n",
            "Epoch 38/50\n",
            "235/235 [==============================] - 1s 4ms/step - loss: 0.1537 - val_loss: 0.1522\n",
            "Epoch 39/50\n",
            "235/235 [==============================] - 1s 4ms/step - loss: 0.1537 - val_loss: 0.1523\n",
            "Epoch 40/50\n",
            "235/235 [==============================] - 1s 4ms/step - loss: 0.1536 - val_loss: 0.1522\n",
            "Epoch 41/50\n",
            "235/235 [==============================] - 1s 4ms/step - loss: 0.1536 - val_loss: 0.1521\n",
            "Epoch 42/50\n",
            "235/235 [==============================] - 1s 4ms/step - loss: 0.1535 - val_loss: 0.1522\n",
            "Epoch 43/50\n",
            "235/235 [==============================] - 1s 4ms/step - loss: 0.1535 - val_loss: 0.1521\n",
            "Epoch 44/50\n",
            "235/235 [==============================] - 1s 4ms/step - loss: 0.1535 - val_loss: 0.1520\n",
            "Epoch 45/50\n",
            "235/235 [==============================] - 1s 4ms/step - loss: 0.1534 - val_loss: 0.1521\n",
            "Epoch 46/50\n",
            "235/235 [==============================] - 1s 4ms/step - loss: 0.1534 - val_loss: 0.1520\n",
            "Epoch 47/50\n",
            "235/235 [==============================] - 1s 4ms/step - loss: 0.1534 - val_loss: 0.1520\n",
            "Epoch 48/50\n",
            "235/235 [==============================] - 1s 4ms/step - loss: 0.1533 - val_loss: 0.1519\n",
            "Epoch 49/50\n",
            "235/235 [==============================] - 1s 4ms/step - loss: 0.1533 - val_loss: 0.1519\n",
            "Epoch 50/50\n",
            "235/235 [==============================] - 1s 4ms/step - loss: 0.1532 - val_loss: 0.1519\n"
          ],
          "name": "stdout"
        },
        {
          "output_type": "execute_result",
          "data": {
            "text/plain": [
              "<tensorflow.python.keras.callbacks.History at 0x7f59c02c8b38>"
            ]
          },
          "metadata": {
            "tags": []
          },
          "execution_count": 5
        }
      ]
    },
    {
      "cell_type": "code",
      "metadata": {
        "id": "hlOxERO2pObb"
      },
      "source": [
        "encoded_imgs = encoder.predict(x_test)\n",
        "decoded_imgs = decoder.predict(encoded_imgs)"
      ],
      "execution_count": 6,
      "outputs": []
    },
    {
      "cell_type": "code",
      "metadata": {
        "id": "zKHaPgFSBBiZ",
        "outputId": "73a5cd8f-06eb-42ab-abd3-7ca9b17dcac6",
        "colab": {
          "base_uri": "https://localhost:8080/",
          "height": 248
        }
      },
      "source": [
        "import matplotlib.pyplot as plt\n",
        "\n",
        "\n",
        "n =10 #no. of digits to display\n",
        "plt.figure(figsize=(20,4))\n",
        "for i in range(n):\n",
        "  #display original digits\n",
        "  ax = plt.subplot(2,n,i+1)\n",
        "  plt.imshow(x_test[i].reshape(28,28))\n",
        "  plt.gray()\n",
        "  ax.get_xaxis().set_visible(False)\n",
        "  ax.get_yaxis().set_visible(False)\n",
        "\n",
        "  #display reconstructed imgs\n",
        "  ax = plt.subplot(2,n,i+1+n)\n",
        "  plt.imshow(decoded_imgs[i].reshape(28,28))\n",
        "  plt.gray()\n",
        "  ax.get_xaxis().set_visible(False)\n",
        "  ax.get_yaxis().set_visible(False)\n",
        "\n",
        "plt.show()"
      ],
      "execution_count": 7,
      "outputs": [
        {
          "output_type": "display_data",
          "data": {
            "image/png": "[encoded data removed]",
            "text/plain": [
              "<Figure size 1440x288 with 20 Axes>"
            ]
          },
          "metadata": {
            "tags": [],
            "needs_background": "light"
          }
        }
      ]
    },
    {
      "cell_type": "code",
      "metadata": {
        "id": "9ZBdF6QOBeGu"
      },
      "source": [
        ""
      ],
      "execution_count": null,
      "outputs": []
    }
  ]
}